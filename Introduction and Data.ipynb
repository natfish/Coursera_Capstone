{
 "cells": [
  {
   "cell_type": "markdown",
   "metadata": {},
   "source": [
    "### Introduction"
   ]
  },
  {
   "cell_type": "markdown",
   "metadata": {},
   "source": [
    "***Coursera Capstone Project: Business Problem***"
   ]
  },
  {
   "cell_type": "markdown",
   "metadata": {},
   "source": [
    "The business problem for the capstone project involves finding an ideal neighborhood in the San Diego area to open a new cafe. There are over 100 neighborhoods in the city of San Diego and determining the right neighborhood will depend on various factors related to stakeholder desires and existing businesses. The stakeholders seek to find a location in which there is a popular breakfast/lunch dining scene, balanced competition, and centrally focused.     "
   ]
  },
  {
   "cell_type": "markdown",
   "metadata": {},
   "source": [
    "### Data"
   ]
  },
  {
   "cell_type": "markdown",
   "metadata": {},
   "source": [
    "Data for the capstone project will be retrieved through two sources. First, a wikipedia page containing the communities/neighborhoods of San Diego will be scraped in order to have the full list of neighborhoods. Then, after using geocode to receive the coordinates for each neighborhood, location data from Foursqaure will reveal venues within each neighborhood. "
   ]
  }
 ],
 "metadata": {
  "kernelspec": {
   "display_name": "Python 3",
   "language": "python",
   "name": "python3"
  },
  "language_info": {
   "codemirror_mode": {
    "name": "ipython",
    "version": 3
   },
   "file_extension": ".py",
   "mimetype": "text/x-python",
   "name": "python",
   "nbconvert_exporter": "python",
   "pygments_lexer": "ipython3",
   "version": "3.7.4"
  }
 },
 "nbformat": 4,
 "nbformat_minor": 2
}
