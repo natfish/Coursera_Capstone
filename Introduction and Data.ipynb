{
 "cells": [
  {
   "cell_type": "markdown",
   "metadata": {},
   "source": [
    "### Introduction"
   ]
  },
  {
   "cell_type": "markdown",
   "metadata": {},
   "source": [
    "***Coursera Capstone Project: Business Problem***"
   ]
  },
  {
   "cell_type": "markdown",
   "metadata": {},
   "source": [
    "The business problem for the capstone project involves finding an ideal neighborhood in the San Diego area to open a new cafe. With over 100 neighborhoods in the city of San Diego, determining the right neighborhood will depend on various factors related to stakeholder desires and existing businesses. The stakeholders seek to find a location in which there is a popular breakfast/lunch dining scene, balanced competition, and centrally focused. These three factors help bring foot traffic and tourism that allow customers to discover a new cafe easily. This report will help reveal existing trends in cafe locations with the goal of deciding where to place a cafe that sets it up for future success. "
   ]
  },
  {
   "cell_type": "markdown",
   "metadata": {},
   "source": [
    "### Data"
   ]
  },
  {
   "cell_type": "markdown",
   "metadata": {},
   "source": [
    "**Data Sources**\n",
    "\n",
    "Data for the capstone project will be retrieved through two sources. First, a wikipedia page containing the communities/neighborhoods of San Diego will be scraped in order to have the full list of neighborhoods. This dataset will only consist of region and neighborhood name. The raw data will be clean and separated by neighborhood per row. Then, after using geocode in python to receive the coordinates for each neighborhood, location data from Foursqaure will reveal venues in each neighborhood. A Foursquare query will result in a variety of business categories in each neighborhood, and it can provide the name, coordinates, and category for each venue per row. The categorical data should include Cafe as a category, in which the analysis can determine where competitors are located. \n",
    "\n",
    "**Limitations**\n",
    "\n",
    "There are a few potential limitations with the data described above. First, geocode in python may not be reliable for gathering coordinates for communities. The wikipedia data includes obscure neighborhoods that may not register for geocode and ultimately fail to retrieve coordinates. Foursquare location data is also dependent on accurate categorical data. For this reason, any restaurants corresponding with breakfast will also be reviewed. However, venue data may not show the full picture."
   ]
  }
 ],
 "metadata": {
  "kernelspec": {
   "display_name": "Python 3",
   "language": "python",
   "name": "python3"
  },
  "language_info": {
   "codemirror_mode": {
    "name": "ipython",
    "version": 3
   },
   "file_extension": ".py",
   "mimetype": "text/x-python",
   "name": "python",
   "nbconvert_exporter": "python",
   "pygments_lexer": "ipython3",
   "version": "3.7.4"
  }
 },
 "nbformat": 4,
 "nbformat_minor": 2
}
